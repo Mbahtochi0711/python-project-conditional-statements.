{
 "cells": [
  {
   "cell_type": "markdown",
   "id": "079a0030-203f-4757-bcd8-39510362af4b",
   "metadata": {},
   "source": [
    "## IF statement"
   ]
  },
  {
   "cell_type": "markdown",
   "id": "799402a5-a2be-464b-abc3-c83c2edae1e9",
   "metadata": {},
   "source": [
    "\n",
    "Drug = 'supplement'\n",
    "if Drug == 'Amartem':\n",
    "    print('drug not in use')\n",
    "if Drug == 'cocaine':\n",
    "    print('illegal drug')\n",
    "if Drug == 'Panadol':\n",
    "    print('drug is for headache')\n",
    "if Drug == 'supplement':\n",
    "    print('the drug has good health benefits')\n",
    " \n"
   ]
  },
  {
   "cell_type": "markdown",
   "id": "d3bc2138-49f5-4af8-935c-126f84117196",
   "metadata": {},
   "source": [
    "## if else statment"
   ]
  },
  {
   "cell_type": "code",
   "execution_count": 8,
   "id": "962261bc-a96f-4271-8147-1176f9e7b987",
   "metadata": {},
   "outputs": [
    {
     "name": "stdout",
     "output_type": "stream",
     "text": [
      "Life is good\n"
     ]
    }
   ],
   "source": [
    "Life= 'Happiness'\n",
    "if Life == 'sorrow':\n",
    "    print('Life is wicked')\n",
    "else:\n",
    "    print('Life is good')   "
   ]
  },
  {
   "cell_type": "markdown",
   "id": "71224e97-9566-4f75-b3a4-f85fbdb8e302",
   "metadata": {},
   "source": [
    "## if-elif-else statement"
   ]
  },
  {
   "cell_type": "code",
   "execution_count": 9,
   "id": "4a27b683-8e7b-41b8-b384-36ec03cfc523",
   "metadata": {},
   "outputs": [
    {
     "name": "stdout",
     "output_type": "stream",
     "text": [
      "mango is a fruit\n"
     ]
    }
   ],
   "source": [
    "Mango='Fruit'\n",
    "if Mango == 'food':\n",
    "    print('not edible')\n",
    "elif Mango == 'bread':\n",
    "    print('wrong food')\n",
    "elif Mango == 'salad':\n",
    "    print('not a fruit')\n",
    "else:\n",
    "    print('mango is a fruit')\n",
    "    "
   ]
  },
  {
   "cell_type": "markdown",
   "id": "dcba3e60-3912-431e-b874-032182d18328",
   "metadata": {},
   "source": [
    "## loop"
   ]
  },
  {
   "cell_type": "code",
   "execution_count": 21,
   "id": "30245a6e-fc05-46ae-a593-be7610cd4ec8",
   "metadata": {},
   "outputs": [
    {
     "name": "stdout",
     "output_type": "stream",
     "text": [
      "Nigeria Africa\n",
      "China Asia\n",
      "Brazil South America\n",
      "Taiwan East Asia\n",
      "Cotonou West Africa\n",
      "Afghanistan South Asia\n"
     ]
    }
   ],
   "source": [
    "# for loop\n",
    "countries= ['Nigeria', 'United States of America', 'China', 'Brazil', 'Taiwan', 'Cotonou', 'Afghanistan']\n",
    "for country in countries:\n",
    "    if country == 'Nigeria': \n",
    "        output= country + ' Africa'\n",
    "        print(output)\n",
    "    if country == 'United State of America':\n",
    "        output= country + ' North America'\n",
    "        print(output)\n",
    "    if country== 'China':\n",
    "        output=  country + ' Asia'\n",
    "        print(output)\n",
    "    if country =='Brazil':\n",
    "        output= country + ' South America'\n",
    "        print(output)\n",
    "    if country== 'Taiwan':\n",
    "        output= country + ' East Asia'\n",
    "        print(output)\n",
    "    if country =='Cotonou':\n",
    "        output= country + ' West Africa'\n",
    "        print(output)\n",
    "    if country =='Afghanistan':\n",
    "        output= country +' South Asia'\n",
    "        print(output)\n"
   ]
  },
  {
   "cell_type": "markdown",
   "id": "ffc1f89e-9ef4-4c3b-962d-2d0dd4243944",
   "metadata": {},
   "source": [
    "# pandas"
   ]
  },
  {
   "cell_type": "code",
   "execution_count": 26,
   "id": "31d4c836-cc91-49bb-a4f3-e48b2c9b537b",
   "metadata": {},
   "outputs": [
    {
     "name": "stdout",
     "output_type": "stream",
     "text": [
      "           PROJECT            TASK  ASIGNEE  START DATE  DAYS REQUIRED    END DATE PROGRESS\n",
      "0      RED Project      Task RED 1     Mike  20/01/2023              2  22/01/2023     100%\n",
      "1      RED Project      Task RED 2      Bob  22/01/2023              6  28/01/2023     100%\n",
      "2      RED Project      Task RED 3  Whitney  23/01/2023             17  09/02/2023     100%\n",
      "3      RED Project      Task RED 4   Jordan  25/01/2023             11  05/02/2023     100%\n",
      "4   ORANGE Project   Task ORANGE 1     Mike  12/02/2023             10  22/02/2023     100%\n",
      "5   ORANGE Project   Task ORANGE 2      Bob  13/02/2023             10  23/02/2023     100%\n",
      "6   ORANGE Project   Task ORANGE 3  Whitney  14/02/2023             14  28/02/2023     100%\n",
      "7   ORANGE Project   Task ORANGE 4    Sarah  15/02/2023              3  18/02/2023     100%\n",
      "8   ORANGE Project   Task ORANGE 5   Jordan  16/02/2023             15  03/03/2023     100%\n",
      "9   ORANGE Project   Task ORANGE 6    Sarah  19/02/2023              5  24/02/2023     100%\n",
      "10  ORANGE Project   Task ORANGE 7    Danny  20/02/2023              2  22/02/2023     100%\n",
      "11  ORANGE Project   Task ORANGE 8    Sarah  01/03/2023              4  05/03/2023     100%\n",
      "12  ORANGE Project   Task ORANGE 9    Danny  03/03/2023              1  04/03/2023      90%\n",
      "13  ORANGE Project  Task ORANGE 10   Morgan  05/03/2023              1  06/03/2023      85%\n",
      "14    BLUE Project     Task BLUE 1    Danny  18/02/2023              1  19/02/2023     100%\n",
      "15    BLUE Project     Task BLUE 2    Danny  24/02/2023              6  02/03/2023     100%\n",
      "16    BLUE Project     Task BLUE 3     Mike  24/02/2023              8  04/03/2023     100%\n",
      "17    PINK Project     Task PINK 1      Bob  25/02/2023             14  11/03/2023      80%\n",
      "18    PINK Project     Task PINK 2  Whitney  01/03/2023              6  07/03/2023     100%\n",
      "19    PINK Project     Task PINK 3   Jordan  04/03/2023              7  11/03/2023      75%\n",
      "20    PINK Project     Task PINK 4    Sarah  05/03/2023              2  07/03/2023      90%\n",
      "21  SILVER Project   Task SILVER 1    Sarah  25/02/2023              3  28/02/2023     100%\n",
      "22  SILVER Project   Task SILVER 2    Danny  05/03/2023              2  07/03/2023      50%\n",
      "23  SILVER Project   Task SILVER 3     Mike  05/03/2023              4  09/03/2023      80%\n",
      "24  SILVER Project   Task SILVER 4  Whitney  08/03/2023             14  22/03/2023      15%\n",
      "25  SILVER Project   Task SILVER 5   Morgan  09/03/2023              5  14/03/2023      60%\n",
      "26   BROWN Project    Task BROWN 1   Morgan  03/03/2023              1  04/03/2023     100%\n",
      "27   BROWN Project    Task BROWN 2    Sarah  08/03/2023              4  12/03/2023      35%\n",
      "28   BROWN Project    Task BROWN 3   Jordan  12/03/2023              7  19/03/2023       0%\n",
      "29   BROWN Project    Task BROWN 4   Morgan  17/03/2023              5  22/03/2023       0%\n",
      "30  VIOLET Project   Task VIOLET 1   Morgan  06/03/2023              2  08/03/2023      30%\n",
      "31  VIOLET Project   Task VIOLET 2     Mike  09/03/2023              3  12/03/2023      50%\n",
      "32  VIOLET Project   Task VIOLET 3      Bob  12/03/2023             10  22/03/2023       0%\n",
      "33  VIOLET Project   Task VIOLET 4    Sarah  14/03/2023             12  26/03/2023       0%\n",
      "34  VIOLET Project   Task VIOLET 5  Whitney  24/03/2023              5  29/03/2023       0%\n",
      "35  VIOLET Project   Task VIOLET 6   Jordan  25/03/2023             16  10/04/2023       0%\n",
      "36  VIOLET Project   Task VIOLET 7    Danny  08/03/2023              5  13/03/2023       0%\n",
      "<class 'pandas.core.frame.DataFrame'>\n",
      "RangeIndex: 37 entries, 0 to 36\n",
      "Data columns (total 7 columns):\n",
      " #   Column         Non-Null Count  Dtype \n",
      "---  ------         --------------  ----- \n",
      " 0   PROJECT        37 non-null     object\n",
      " 1   TASK           37 non-null     object\n",
      " 2   ASIGNEE        37 non-null     object\n",
      " 3   START DATE     37 non-null     object\n",
      " 4   DAYS REQUIRED  37 non-null     int64 \n",
      " 5   END DATE       37 non-null     object\n",
      " 6   PROGRESS       37 non-null     object\n",
      "dtypes: int64(1), object(6)\n",
      "memory usage: 2.2+ KB\n",
      "None\n"
     ]
    }
   ],
   "source": [
    "import pandas as pd\n",
    "df=pd.read_csv('Python_Test_Data.csv')\n",
    "print(df.to_string())\n",
    "print(df.info())"
   ]
  },
  {
   "cell_type": "code",
   "execution_count": 28,
   "id": "98703bf2-8843-4bd7-b263-1820b8b1a8ed",
   "metadata": {},
   "outputs": [
    {
     "name": "stdout",
     "output_type": "stream",
     "text": [
      "0     False\n",
      "1     False\n",
      "2     False\n",
      "3     False\n",
      "4     False\n",
      "5     False\n",
      "6     False\n",
      "7     False\n",
      "8     False\n",
      "9     False\n",
      "10    False\n",
      "11    False\n",
      "12    False\n",
      "13    False\n",
      "14    False\n",
      "15    False\n",
      "16    False\n",
      "17    False\n",
      "18    False\n",
      "19    False\n",
      "20    False\n",
      "21    False\n",
      "22    False\n",
      "23    False\n",
      "24    False\n",
      "25    False\n",
      "26    False\n",
      "27    False\n",
      "28    False\n",
      "29    False\n",
      "30    False\n",
      "31    False\n",
      "32    False\n",
      "33    False\n",
      "34    False\n",
      "35    False\n",
      "36    False\n"
     ]
    }
   ],
   "source": [
    "import pandas as pd\n",
    "df=pd.read_csv('Python_Test_Data.csv')\n",
    "tic=df.duplicated()\n",
    "print(tic.to_string())"
   ]
  },
  {
   "cell_type": "code",
   "execution_count": 29,
   "id": "b6c5606c-85cc-47d7-9f79-1a8c1ee33905",
   "metadata": {},
   "outputs": [
    {
     "name": "stdout",
     "output_type": "stream",
     "text": [
      "Axes(0.125,0.11;0.775x0.77)\n"
     ]
    },
    {
     "data": {
      "image/png": "[encoded data removed]",
      "text/plain": [
       "<Figure size 640x480 with 1 Axes>"
      ]
     },
     "metadata": {},
     "output_type": "display_data"
    }
   ],
   "source": [
    "import pandas as pd\n",
    "import matplotlib.pyplot as plt\n",
    "df=pd.read_csv('Python_Test_Data.csv')\n",
    "print(df.plot())"
   ]
  },
  {
   "cell_type": "code",
   "execution_count": 30,
   "id": "ed5e2a27-04d1-4e7a-9761-6b59173cd4f3",
   "metadata": {},
   "outputs": [],
   "source": [
    "import pandas as pd\n",
    "df=pd.read_csv('Python_Test_Data.csv')\n",
    "df.to_csv(r'C:\\Users\\chiag\\Pandas Session\\python_test_tochi.csv')\n"
   ]
  },
  {
   "cell_type": "code",
   "execution_count": null,
   "id": "86a33309-c573-4e68-8ea6-67526ddf597d",
   "metadata": {},
   "outputs": [],
   "source": []
  }
 ],
 "metadata": {
  "kernelspec": {
   "display_name": "Python 3 (ipykernel)",
   "language": "python",
   "name": "python3"
  },
  "language_info": {
   "codemirror_mode": {
    "name": "ipython",
    "version": 3
   },
   "file_extension": ".py",
   "mimetype": "text/x-python",
   "name": "python",
   "nbconvert_exporter": "python",
   "pygments_lexer": "ipython3",
   "version": "3.12.0"
  },
  "widgets": {
   "application/vnd.jupyter.widget-state+json": {
    "state": {},
    "version_major": 2,
    "version_minor": 0
   }
  }
 },
 "nbformat": 4,
 "nbformat_minor": 5
}
